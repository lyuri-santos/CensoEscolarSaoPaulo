{
 "metadata": {
  "language_info": {
   "codemirror_mode": {
    "name": "ipython",
    "version": 3
   },
   "file_extension": ".py",
   "mimetype": "text/x-python",
   "name": "python",
   "nbconvert_exporter": "python",
   "pygments_lexer": "ipython3",
   "version": "3.7.9-final"
  },
  "orig_nbformat": 2,
  "kernelspec": {
   "name": "python3",
   "display_name": "Python 3",
   "language": "python"
  }
 },
 "nbformat": 4,
 "nbformat_minor": 2,
 "cells": [
  {
   "cell_type": "code",
   "execution_count": 1,
   "metadata": {},
   "outputs": [],
   "source": [
    "#inicio\n",
    "import statsmodels.api as sm\n",
    "%matplotlib inline\n",
    "import numpy as np\n",
    "from scipy import stats\n",
    "import pandas as pd\n",
    "import matplotlib.pyplot as plt\n",
    "import seaborn as sns\n",
    "from statsmodels.tsa.arima.model import ARIMA"
   ]
  },
  {
   "cell_type": "code",
   "execution_count": 2,
   "metadata": {},
   "outputs": [
    {
     "output_type": "execute_result",
     "data": {
      "text/plain": [
       "                total\n",
       "NU_ANO_CENSO         \n",
       "2008          2964592\n",
       "2009          2896738\n",
       "2010          2851500\n",
       "2011          2811674\n",
       "2012          2793659"
      ],
      "text/html": "<div>\n<style scoped>\n    .dataframe tbody tr th:only-of-type {\n        vertical-align: middle;\n    }\n\n    .dataframe tbody tr th {\n        vertical-align: top;\n    }\n\n    .dataframe thead th {\n        text-align: right;\n    }\n</style>\n<table border=\"1\" class=\"dataframe\">\n  <thead>\n    <tr style=\"text-align: right;\">\n      <th></th>\n      <th>total</th>\n    </tr>\n    <tr>\n      <th>NU_ANO_CENSO</th>\n      <th></th>\n    </tr>\n  </thead>\n  <tbody>\n    <tr>\n      <th>2008</th>\n      <td>2964592</td>\n    </tr>\n    <tr>\n      <th>2009</th>\n      <td>2896738</td>\n    </tr>\n    <tr>\n      <th>2010</th>\n      <td>2851500</td>\n    </tr>\n    <tr>\n      <th>2011</th>\n      <td>2811674</td>\n    </tr>\n    <tr>\n      <th>2012</th>\n      <td>2793659</td>\n    </tr>\n  </tbody>\n</table>\n</div>"
     },
     "metadata": {},
     "execution_count": 2
    }
   ],
   "source": [
    "data = pd.read_csv('matriculasporano2019.csv', sep=';', encoding='utf-8',index_col=0)\n",
    "data.head()"
   ]
  },
  {
   "cell_type": "code",
   "execution_count": 3,
   "metadata": {},
   "outputs": [
    {
     "output_type": "stream",
     "name": "stdout",
     "text": [
      "total    int64\n",
      "dtype: object\n"
     ]
    }
   ],
   "source": [
    "print (data.dtypes)"
   ]
  },
  {
   "cell_type": "code",
   "execution_count": 4,
   "metadata": {},
   "outputs": [
    {
     "output_type": "execute_result",
     "data": {
      "text/plain": [
       "                total\n",
       "NU_ANO_CENSO         \n",
       "2008          2964592\n",
       "2009          2896738\n",
       "2010          2851500\n",
       "2011          2811674\n",
       "2012          2793659\n",
       "2013          2777420\n",
       "2014          2783004\n",
       "2015          2717086\n",
       "2016          2791299\n",
       "2017          2737783\n",
       "2018          2738845\n",
       "2019          2703300"
      ],
      "text/html": "<div>\n<style scoped>\n    .dataframe tbody tr th:only-of-type {\n        vertical-align: middle;\n    }\n\n    .dataframe tbody tr th {\n        vertical-align: top;\n    }\n\n    .dataframe thead th {\n        text-align: right;\n    }\n</style>\n<table border=\"1\" class=\"dataframe\">\n  <thead>\n    <tr style=\"text-align: right;\">\n      <th></th>\n      <th>total</th>\n    </tr>\n    <tr>\n      <th>NU_ANO_CENSO</th>\n      <th></th>\n    </tr>\n  </thead>\n  <tbody>\n    <tr>\n      <th>2008</th>\n      <td>2964592</td>\n    </tr>\n    <tr>\n      <th>2009</th>\n      <td>2896738</td>\n    </tr>\n    <tr>\n      <th>2010</th>\n      <td>2851500</td>\n    </tr>\n    <tr>\n      <th>2011</th>\n      <td>2811674</td>\n    </tr>\n    <tr>\n      <th>2012</th>\n      <td>2793659</td>\n    </tr>\n    <tr>\n      <th>2013</th>\n      <td>2777420</td>\n    </tr>\n    <tr>\n      <th>2014</th>\n      <td>2783004</td>\n    </tr>\n    <tr>\n      <th>2015</th>\n      <td>2717086</td>\n    </tr>\n    <tr>\n      <th>2016</th>\n      <td>2791299</td>\n    </tr>\n    <tr>\n      <th>2017</th>\n      <td>2737783</td>\n    </tr>\n    <tr>\n      <th>2018</th>\n      <td>2738845</td>\n    </tr>\n    <tr>\n      <th>2019</th>\n      <td>2703300</td>\n    </tr>\n  </tbody>\n</table>\n</div>"
     },
     "metadata": {},
     "execution_count": 4
    }
   ],
   "source": [
    "data.index = pd.to_datetime(data.index, format='%Y')\n",
    "data.index = pd.DatetimeIndex(data.index).to_period('Y')\n",
    "data"
   ]
  },
  {
   "cell_type": "code",
   "execution_count": 5,
   "metadata": {},
   "outputs": [
    {
     "output_type": "stream",
     "name": "stdout",
     "text": [
      "                 total\n",
      "NU_ANO_CENSO          \n",
      "2008               NaN\n",
      "2009         -0.023154\n",
      "2010         -0.015740\n",
      "2011         -0.014065\n",
      "2012         -0.006428\n"
     ]
    }
   ],
   "source": [
    "# Take 1st diff of log of gdp\n",
    "d_ln_gdp = np.log(data).diff()\n",
    "print(d_ln_gdp.head())"
   ]
  },
  {
   "cell_type": "code",
   "execution_count": 6,
   "metadata": {},
   "outputs": [
    {
     "output_type": "stream",
     "name": "stdout",
     "text": [
      "                               SARIMAX Results                                \n",
      "==============================================================================\n",
      "Dep. Variable:                  total   No. Observations:                   12\n",
      "Model:                 ARIMA(3, 0, 1)   Log Likelihood                  33.366\n",
      "Date:                Sun, 07 Feb 2021   AIC                            -54.733\n",
      "Time:                        20:36:25   BIC                            -51.823\n",
      "Sample:                    12-31-2008   HQIC                           -55.810\n",
      "                         - 12-31-2019                                         \n",
      "Covariance Type:                  opg                                         \n",
      "==============================================================================\n",
      "                 coef    std err          z      P>|z|      [0.025      0.975]\n",
      "------------------------------------------------------------------------------\n",
      "const         -0.0085      0.005     -1.626      0.104      -0.019       0.002\n",
      "ar.L1         -0.3077      9.947     -0.031      0.975     -19.804      19.189\n",
      "ar.L2          0.3188      3.295      0.097      0.923      -6.138       6.776\n",
      "ar.L3          0.0918      3.748      0.024      0.980      -7.254       7.438\n",
      "ma.L1         -0.0730      9.588     -0.008      0.994     -18.865      18.719\n",
      "sigma2         0.0001      0.000      0.671      0.502      -0.000       0.001\n",
      "===================================================================================\n",
      "Ljung-Box (L1) (Q):                   0.01   Jarque-Bera (JB):                 1.15\n",
      "Prob(Q):                              0.94   Prob(JB):                         0.56\n",
      "Heteroskedasticity (H):               2.09   Skew:                             0.75\n",
      "Prob(H) (two-sided):                  0.49   Kurtosis:                         3.22\n",
      "===================================================================================\n",
      "\n",
      "Warnings:\n",
      "[1] Covariance matrix calculated using the outer product of gradients (complex-step).\n",
      "C:\\Users\\Luciana\\.conda\\envs\\myenv\\lib\\site-packages\\statsmodels\\base\\model.py:568: ConvergenceWarning: Maximum Likelihood optimization failed to converge. Check mle_retvals\n",
      "  ConvergenceWarning)\n"
     ]
    }
   ],
   "source": [
    "p = 3\n",
    "d = 0\n",
    "q = 1\n",
    "\n",
    "mod = ARIMA(d_ln_gdp, order=(p, d, q))\n",
    "res = mod.fit()\n",
    "print(res.summary())"
   ]
  },
  {
   "cell_type": "code",
   "execution_count": 7,
   "metadata": {},
   "outputs": [
    {
     "output_type": "stream",
     "name": "stdout",
     "text": [
      "                               SARIMAX Results                                \n",
      "==============================================================================\n",
      "Dep. Variable:                  total   No. Observations:                   12\n",
      "Model:                 ARIMA(2, 0, 1)   Log Likelihood                  33.344\n",
      "Date:                Sun, 07 Feb 2021   AIC                            -56.689\n",
      "Time:                        20:36:25   BIC                            -54.264\n",
      "Sample:                    12-31-2008   HQIC                           -57.586\n",
      "                         - 12-31-2019                                         \n",
      "Covariance Type:                  opg                                         \n",
      "==============================================================================\n",
      "                 coef    std err          z      P>|z|      [0.025      0.975]\n",
      "------------------------------------------------------------------------------\n",
      "const         -0.0083      0.005     -1.789      0.074      -0.017       0.001\n",
      "ar.L1         -0.1409      3.215     -0.044      0.965      -6.443       6.161\n",
      "ar.L2          0.3507      1.606      0.218      0.827      -2.796       3.498\n",
      "ma.L1         -0.2367      3.270     -0.072      0.942      -6.646       6.173\n",
      "sigma2         0.0001      0.000      1.117      0.264   -9.92e-05       0.000\n",
      "===================================================================================\n",
      "Ljung-Box (L1) (Q):                   0.01   Jarque-Bera (JB):                 1.30\n",
      "Prob(Q):                              0.93   Prob(JB):                         0.52\n",
      "Heteroskedasticity (H):               1.99   Skew:                             0.78\n",
      "Prob(H) (two-sided):                  0.52   Kurtosis:                         3.37\n",
      "===================================================================================\n",
      "\n",
      "Warnings:\n",
      "[1] Covariance matrix calculated using the outer product of gradients (complex-step).\n",
      "C:\\Users\\Luciana\\.conda\\envs\\myenv\\lib\\site-packages\\statsmodels\\base\\model.py:568: ConvergenceWarning: Maximum Likelihood optimization failed to converge. Check mle_retvals\n",
      "  ConvergenceWarning)\n"
     ]
    }
   ],
   "source": [
    "p = 2\n",
    "d = 0\n",
    "q = 1\n",
    "\n",
    "mod = ARIMA(d_ln_gdp, order=(p, d, q))\n",
    "res = mod.fit()\n",
    "print(res.summary())"
   ]
  },
  {
   "cell_type": "code",
   "execution_count": 8,
   "metadata": {},
   "outputs": [
    {
     "output_type": "stream",
     "name": "stdout",
     "text": [
      "                               SARIMAX Results                                \n==============================================================================\nDep. Variable:                  total   No. Observations:                   12\nModel:                 ARIMA(1, 0, 1)   Log Likelihood                  33.238\nDate:                Sun, 07 Feb 2021   AIC                            -58.475\nTime:                        20:36:25   BIC                            -56.536\nSample:                    12-31-2008   HQIC                           -59.193\n                         - 12-31-2019                                         \nCovariance Type:                  opg                                         \n==============================================================================\n                 coef    std err          z      P>|z|      [0.025      0.975]\n------------------------------------------------------------------------------\nconst         -0.0079      0.004     -2.244      0.025      -0.015      -0.001\nar.L1         -0.6717      1.352     -0.497      0.619      -3.321       1.978\nma.L1          0.2337      1.679      0.139      0.889      -3.058       3.525\nsigma2         0.0001   7.69e-05      1.755      0.079   -1.57e-05       0.000\n===================================================================================\nLjung-Box (L1) (Q):                   0.03   Jarque-Bera (JB):                 1.53\nProb(Q):                              0.87   Prob(JB):                         0.46\nHeteroskedasticity (H):               1.59   Skew:                             0.83\nProb(H) (two-sided):                  0.67   Kurtosis:                         3.55\n===================================================================================\n\nWarnings:\n[1] Covariance matrix calculated using the outer product of gradients (complex-step).\n"
     ]
    }
   ],
   "source": [
    "p = 1\n",
    "d = 0\n",
    "q = 1\n",
    "\n",
    "mod = ARIMA(d_ln_gdp, order=(p, d, q))\n",
    "res = mod.fit()\n",
    "print(res.summary())"
   ]
  },
  {
   "cell_type": "code",
   "execution_count": null,
   "metadata": {},
   "outputs": [],
   "source": []
  }
 ]
}