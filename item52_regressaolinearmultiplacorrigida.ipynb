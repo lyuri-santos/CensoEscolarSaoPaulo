{
 "metadata": {
  "language_info": {
   "codemirror_mode": {
    "name": "ipython",
    "version": 3
   },
   "file_extension": ".py",
   "mimetype": "text/x-python",
   "name": "python",
   "nbconvert_exporter": "python",
   "pygments_lexer": "ipython3",
   "version": "3.7.9-final"
  },
  "orig_nbformat": 2,
  "kernelspec": {
   "name": "python3",
   "display_name": "Python 3",
   "language": "python"
  }
 },
 "nbformat": 4,
 "nbformat_minor": 2,
 "cells": [
  {
   "cell_type": "code",
   "execution_count": 4,
   "metadata": {},
   "outputs": [],
   "source": [
    "import pandas as pd\n",
    "import matplotlib.pyplot as plt\n",
    "import seaborn as sns\n",
    "import statsmodels.api as sm\n",
    "from statsmodels.tsa.arima.model import ARIMA\n",
    "from scipy import stats"
   ]
  },
  {
   "cell_type": "code",
   "execution_count": 1,
   "metadata": {},
   "outputs": [
    {
     "output_type": "execute_result",
     "data": {
      "text/plain": [
       "   NU_ANO_CENSO DEPENDENCIA  CO_ENTIDADE                 ETAPA_ENSINO  \\\n",
       "0          2008    Estadual     35000012  6° ANO - ENSINO FUNDAMENTAL   \n",
       "1          2008    Estadual     35000012  6° ANO - ENSINO FUNDAMENTAL   \n",
       "2          2008    Estadual     35000012  6° ANO - ENSINO FUNDAMENTAL   \n",
       "3          2008    Estadual     35000012  6° ANO - ENSINO FUNDAMENTAL   \n",
       "4          2008    Estadual     35000012  6° ANO - ENSINO FUNDAMENTAL   \n",
       "\n",
       "  NACIONALIDADE SEXO       COR_RACA  total  \n",
       "0    Brasileira    F        Amarela      1  \n",
       "1    Brasileira    F         Branca     22  \n",
       "2    Brasileira    F  Não declarada     32  \n",
       "3    Brasileira    F          Parda     11  \n",
       "4    Brasileira    M         Branca     27  "
      ],
      "text/html": "<div>\n<style scoped>\n    .dataframe tbody tr th:only-of-type {\n        vertical-align: middle;\n    }\n\n    .dataframe tbody tr th {\n        vertical-align: top;\n    }\n\n    .dataframe thead th {\n        text-align: right;\n    }\n</style>\n<table border=\"1\" class=\"dataframe\">\n  <thead>\n    <tr style=\"text-align: right;\">\n      <th></th>\n      <th>NU_ANO_CENSO</th>\n      <th>DEPENDENCIA</th>\n      <th>CO_ENTIDADE</th>\n      <th>ETAPA_ENSINO</th>\n      <th>NACIONALIDADE</th>\n      <th>SEXO</th>\n      <th>COR_RACA</th>\n      <th>total</th>\n    </tr>\n  </thead>\n  <tbody>\n    <tr>\n      <th>0</th>\n      <td>2008</td>\n      <td>Estadual</td>\n      <td>35000012</td>\n      <td>6° ANO - ENSINO FUNDAMENTAL</td>\n      <td>Brasileira</td>\n      <td>F</td>\n      <td>Amarela</td>\n      <td>1</td>\n    </tr>\n    <tr>\n      <th>1</th>\n      <td>2008</td>\n      <td>Estadual</td>\n      <td>35000012</td>\n      <td>6° ANO - ENSINO FUNDAMENTAL</td>\n      <td>Brasileira</td>\n      <td>F</td>\n      <td>Branca</td>\n      <td>22</td>\n    </tr>\n    <tr>\n      <th>2</th>\n      <td>2008</td>\n      <td>Estadual</td>\n      <td>35000012</td>\n      <td>6° ANO - ENSINO FUNDAMENTAL</td>\n      <td>Brasileira</td>\n      <td>F</td>\n      <td>Não declarada</td>\n      <td>32</td>\n    </tr>\n    <tr>\n      <th>3</th>\n      <td>2008</td>\n      <td>Estadual</td>\n      <td>35000012</td>\n      <td>6° ANO - ENSINO FUNDAMENTAL</td>\n      <td>Brasileira</td>\n      <td>F</td>\n      <td>Parda</td>\n      <td>11</td>\n    </tr>\n    <tr>\n      <th>4</th>\n      <td>2008</td>\n      <td>Estadual</td>\n      <td>35000012</td>\n      <td>6° ANO - ENSINO FUNDAMENTAL</td>\n      <td>Brasileira</td>\n      <td>M</td>\n      <td>Branca</td>\n      <td>27</td>\n    </tr>\n  </tbody>\n</table>\n</div>"
     },
     "metadata": {},
     "execution_count": 1
    }
   ],
   "source": [
    "\n",
    "data = pd.read_csv('../Backup/AgrupamentoAnoTipoEntidadelimpo2019.csv', sep=';', encoding='utf-8')\n",
    "data.head()"
   ]
  },
  {
   "cell_type": "code",
   "execution_count": 5,
   "metadata": {},
   "outputs": [
    {
     "output_type": "execute_result",
     "data": {
      "text/plain": [
       "       NU_ANO_CENSO   CO_ENTIDADE         total\n",
       "count  2.226670e+06  2.226670e+06  2.226670e+06\n",
       "mean   2.013667e+03  3.523149e+07  1.364977e+01\n",
       "std    3.427648e+00  2.672729e+05  2.505880e+01\n",
       "min    2.008000e+03  3.500001e+07  1.000000e+00\n",
       "25%    2.011000e+03  3.505418e+07  2.000000e+00\n",
       "50%    2.014000e+03  3.513180e+07  6.000000e+00\n",
       "75%    2.017000e+03  3.528856e+07  1.600000e+01\n",
       "max    2.019000e+03  3.599001e+07  1.099000e+03"
      ],
      "text/html": "<div>\n<style scoped>\n    .dataframe tbody tr th:only-of-type {\n        vertical-align: middle;\n    }\n\n    .dataframe tbody tr th {\n        vertical-align: top;\n    }\n\n    .dataframe thead th {\n        text-align: right;\n    }\n</style>\n<table border=\"1\" class=\"dataframe\">\n  <thead>\n    <tr style=\"text-align: right;\">\n      <th></th>\n      <th>NU_ANO_CENSO</th>\n      <th>CO_ENTIDADE</th>\n      <th>total</th>\n    </tr>\n  </thead>\n  <tbody>\n    <tr>\n      <th>count</th>\n      <td>2.226670e+06</td>\n      <td>2.226670e+06</td>\n      <td>2.226670e+06</td>\n    </tr>\n    <tr>\n      <th>mean</th>\n      <td>2.013667e+03</td>\n      <td>3.523149e+07</td>\n      <td>1.364977e+01</td>\n    </tr>\n    <tr>\n      <th>std</th>\n      <td>3.427648e+00</td>\n      <td>2.672729e+05</td>\n      <td>2.505880e+01</td>\n    </tr>\n    <tr>\n      <th>min</th>\n      <td>2.008000e+03</td>\n      <td>3.500001e+07</td>\n      <td>1.000000e+00</td>\n    </tr>\n    <tr>\n      <th>25%</th>\n      <td>2.011000e+03</td>\n      <td>3.505418e+07</td>\n      <td>2.000000e+00</td>\n    </tr>\n    <tr>\n      <th>50%</th>\n      <td>2.014000e+03</td>\n      <td>3.513180e+07</td>\n      <td>6.000000e+00</td>\n    </tr>\n    <tr>\n      <th>75%</th>\n      <td>2.017000e+03</td>\n      <td>3.528856e+07</td>\n      <td>1.600000e+01</td>\n    </tr>\n    <tr>\n      <th>max</th>\n      <td>2.019000e+03</td>\n      <td>3.599001e+07</td>\n      <td>1.099000e+03</td>\n    </tr>\n  </tbody>\n</table>\n</div>"
     },
     "metadata": {},
     "execution_count": 5
    }
   ],
   "source": [
    "data.shape\n",
    "data.describe()"
   ]
  },
  {
   "cell_type": "code",
   "execution_count": 5,
   "metadata": {},
   "outputs": [
    {
     "output_type": "execute_result",
     "data": {
      "text/plain": [
       "NU_ANO_CENSO      int64\n",
       "DEPENDENCIA      object\n",
       "CO_ENTIDADE       int64\n",
       "ETAPA_ENSINO     object\n",
       "NACIONALIDADE    object\n",
       "SEXO             object\n",
       "COR_RACA         object\n",
       "total             int64\n",
       "dtype: object"
      ]
     },
     "metadata": {},
     "execution_count": 5
    }
   ],
   "source": [
    "data.dtypes"
   ]
  },
  {
   "cell_type": "code",
   "execution_count": 6,
   "metadata": {},
   "outputs": [
    {
     "output_type": "execute_result",
     "data": {
      "text/plain": [
       "              NU_ANO_CENSO  CO_ENTIDADE     total\n",
       "NU_ANO_CENSO      1.000000     0.037724 -0.037402\n",
       "CO_ENTIDADE       0.037724     1.000000  0.000119\n",
       "total            -0.037402     0.000119  1.000000"
      ],
      "text/html": "<div>\n<style scoped>\n    .dataframe tbody tr th:only-of-type {\n        vertical-align: middle;\n    }\n\n    .dataframe tbody tr th {\n        vertical-align: top;\n    }\n\n    .dataframe thead th {\n        text-align: right;\n    }\n</style>\n<table border=\"1\" class=\"dataframe\">\n  <thead>\n    <tr style=\"text-align: right;\">\n      <th></th>\n      <th>NU_ANO_CENSO</th>\n      <th>CO_ENTIDADE</th>\n      <th>total</th>\n    </tr>\n  </thead>\n  <tbody>\n    <tr>\n      <th>NU_ANO_CENSO</th>\n      <td>1.000000</td>\n      <td>0.037724</td>\n      <td>-0.037402</td>\n    </tr>\n    <tr>\n      <th>CO_ENTIDADE</th>\n      <td>0.037724</td>\n      <td>1.000000</td>\n      <td>0.000119</td>\n    </tr>\n    <tr>\n      <th>total</th>\n      <td>-0.037402</td>\n      <td>0.000119</td>\n      <td>1.000000</td>\n    </tr>\n  </tbody>\n</table>\n</div>"
     },
     "metadata": {},
     "execution_count": 6
    }
   ],
   "source": [
    "data.corr()"
   ]
  },
  {
   "cell_type": "code",
   "execution_count": 7,
   "metadata": {},
   "outputs": [],
   "source": [
    "X = data[['NU_ANO_CENSO','DEPENDENCIA','CO_ENTIDADE','ETAPA_ENSINO','NACIONALIDADE','SEXO','COR_RACA']]"
   ]
  },
  {
   "cell_type": "code",
   "execution_count": 8,
   "metadata": {},
   "outputs": [
    {
     "output_type": "execute_result",
     "data": {
      "text/plain": [
       "   NU_ANO_CENSO  CO_ENTIDADE  DEPENDENCIA_Federal  DEPENDENCIA_Municipal  \\\n",
       "0          2008     35000012                    0                      0   \n",
       "1          2008     35000012                    0                      0   \n",
       "2          2008     35000012                    0                      0   \n",
       "3          2008     35000012                    0                      0   \n",
       "4          2008     35000012                    0                      0   \n",
       "\n",
       "   DEPENDENCIA_Privada  ETAPA_ENSINO_1° ANO - ENSINO FUNDAMENTAL  \\\n",
       "0                    0                                         0   \n",
       "1                    0                                         0   \n",
       "2                    0                                         0   \n",
       "3                    0                                         0   \n",
       "4                    0                                         0   \n",
       "\n",
       "   ETAPA_ENSINO_2° ANO - ENSINO FUNDAMENTAL  \\\n",
       "0                                         0   \n",
       "1                                         0   \n",
       "2                                         0   \n",
       "3                                         0   \n",
       "4                                         0   \n",
       "\n",
       "   ETAPA_ENSINO_3° ANO - ENSINO FUNDAMENTAL  \\\n",
       "0                                         0   \n",
       "1                                         0   \n",
       "2                                         0   \n",
       "3                                         0   \n",
       "4                                         0   \n",
       "\n",
       "   ETAPA_ENSINO_4° ANO - ENSINO FUNDAMENTAL  \\\n",
       "0                                         0   \n",
       "1                                         0   \n",
       "2                                         0   \n",
       "3                                         0   \n",
       "4                                         0   \n",
       "\n",
       "   ETAPA_ENSINO_5° ANO - ENSINO FUNDAMENTAL  ...  \\\n",
       "0                                         0  ...   \n",
       "1                                         0  ...   \n",
       "2                                         0  ...   \n",
       "3                                         0  ...   \n",
       "4                                         0  ...   \n",
       "\n",
       "   ETAPA_ENSINO_PROPEDÊUTICO - ENSINO MÉDIO  ETAPA_ENSINO_PRÉ-ESCOLA  \\\n",
       "0                                         0                        0   \n",
       "1                                         0                        0   \n",
       "2                                         0                        0   \n",
       "3                                         0                        0   \n",
       "4                                         0                        0   \n",
       "\n",
       "   NACIONALIDADE_Brasileira -nascido no exterior ou naturalizado  \\\n",
       "0                                                  0               \n",
       "1                                                  0               \n",
       "2                                                  0               \n",
       "3                                                  0               \n",
       "4                                                  0               \n",
       "\n",
       "   NACIONALIDADE_Estrangeira  SEXO_M  COR_RACA_Branca  COR_RACA_Indígena  \\\n",
       "0                          0       0                0                  0   \n",
       "1                          0       0                1                  0   \n",
       "2                          0       0                0                  0   \n",
       "3                          0       0                0                  0   \n",
       "4                          0       1                1                  0   \n",
       "\n",
       "   COR_RACA_Não declarada  COR_RACA_Parda  COR_RACA_Preta  \n",
       "0                       0               0               0  \n",
       "1                       0               0               0  \n",
       "2                       1               0               0  \n",
       "3                       0               1               0  \n",
       "4                       0               0               0  \n",
       "\n",
       "[5 rows x 26 columns]"
      ],
      "text/html": "<div>\n<style scoped>\n    .dataframe tbody tr th:only-of-type {\n        vertical-align: middle;\n    }\n\n    .dataframe tbody tr th {\n        vertical-align: top;\n    }\n\n    .dataframe thead th {\n        text-align: right;\n    }\n</style>\n<table border=\"1\" class=\"dataframe\">\n  <thead>\n    <tr style=\"text-align: right;\">\n      <th></th>\n      <th>NU_ANO_CENSO</th>\n      <th>CO_ENTIDADE</th>\n      <th>DEPENDENCIA_Federal</th>\n      <th>DEPENDENCIA_Municipal</th>\n      <th>DEPENDENCIA_Privada</th>\n      <th>ETAPA_ENSINO_1° ANO - ENSINO FUNDAMENTAL</th>\n      <th>ETAPA_ENSINO_2° ANO - ENSINO FUNDAMENTAL</th>\n      <th>ETAPA_ENSINO_3° ANO - ENSINO FUNDAMENTAL</th>\n      <th>ETAPA_ENSINO_4° ANO - ENSINO FUNDAMENTAL</th>\n      <th>ETAPA_ENSINO_5° ANO - ENSINO FUNDAMENTAL</th>\n      <th>...</th>\n      <th>ETAPA_ENSINO_PROPEDÊUTICO - ENSINO MÉDIO</th>\n      <th>ETAPA_ENSINO_PRÉ-ESCOLA</th>\n      <th>NACIONALIDADE_Brasileira -nascido no exterior ou naturalizado</th>\n      <th>NACIONALIDADE_Estrangeira</th>\n      <th>SEXO_M</th>\n      <th>COR_RACA_Branca</th>\n      <th>COR_RACA_Indígena</th>\n      <th>COR_RACA_Não declarada</th>\n      <th>COR_RACA_Parda</th>\n      <th>COR_RACA_Preta</th>\n    </tr>\n  </thead>\n  <tbody>\n    <tr>\n      <th>0</th>\n      <td>2008</td>\n      <td>35000012</td>\n      <td>0</td>\n      <td>0</td>\n      <td>0</td>\n      <td>0</td>\n      <td>0</td>\n      <td>0</td>\n      <td>0</td>\n      <td>0</td>\n      <td>...</td>\n      <td>0</td>\n      <td>0</td>\n      <td>0</td>\n      <td>0</td>\n      <td>0</td>\n      <td>0</td>\n      <td>0</td>\n      <td>0</td>\n      <td>0</td>\n      <td>0</td>\n    </tr>\n    <tr>\n      <th>1</th>\n      <td>2008</td>\n      <td>35000012</td>\n      <td>0</td>\n      <td>0</td>\n      <td>0</td>\n      <td>0</td>\n      <td>0</td>\n      <td>0</td>\n      <td>0</td>\n      <td>0</td>\n      <td>...</td>\n      <td>0</td>\n      <td>0</td>\n      <td>0</td>\n      <td>0</td>\n      <td>0</td>\n      <td>1</td>\n      <td>0</td>\n      <td>0</td>\n      <td>0</td>\n      <td>0</td>\n    </tr>\n    <tr>\n      <th>2</th>\n      <td>2008</td>\n      <td>35000012</td>\n      <td>0</td>\n      <td>0</td>\n      <td>0</td>\n      <td>0</td>\n      <td>0</td>\n      <td>0</td>\n      <td>0</td>\n      <td>0</td>\n      <td>...</td>\n      <td>0</td>\n      <td>0</td>\n      <td>0</td>\n      <td>0</td>\n      <td>0</td>\n      <td>0</td>\n      <td>0</td>\n      <td>1</td>\n      <td>0</td>\n      <td>0</td>\n    </tr>\n    <tr>\n      <th>3</th>\n      <td>2008</td>\n      <td>35000012</td>\n      <td>0</td>\n      <td>0</td>\n      <td>0</td>\n      <td>0</td>\n      <td>0</td>\n      <td>0</td>\n      <td>0</td>\n      <td>0</td>\n      <td>...</td>\n      <td>0</td>\n      <td>0</td>\n      <td>0</td>\n      <td>0</td>\n      <td>0</td>\n      <td>0</td>\n      <td>0</td>\n      <td>0</td>\n      <td>1</td>\n      <td>0</td>\n    </tr>\n    <tr>\n      <th>4</th>\n      <td>2008</td>\n      <td>35000012</td>\n      <td>0</td>\n      <td>0</td>\n      <td>0</td>\n      <td>0</td>\n      <td>0</td>\n      <td>0</td>\n      <td>0</td>\n      <td>0</td>\n      <td>...</td>\n      <td>0</td>\n      <td>0</td>\n      <td>0</td>\n      <td>0</td>\n      <td>1</td>\n      <td>1</td>\n      <td>0</td>\n      <td>0</td>\n      <td>0</td>\n      <td>0</td>\n    </tr>\n  </tbody>\n</table>\n<p>5 rows × 26 columns</p>\n</div>"
     },
     "metadata": {},
     "execution_count": 8
    }
   ],
   "source": [
    "X = pd.get_dummies(data=X, drop_first=True)\n",
    "X.head()"
   ]
  },
  {
   "cell_type": "code",
   "execution_count": 9,
   "metadata": {},
   "outputs": [],
   "source": [
    "Y = data['total']"
   ]
  },
  {
   "cell_type": "code",
   "execution_count": 10,
   "metadata": {},
   "outputs": [
    {
     "output_type": "stream",
     "name": "stdout",
     "text": [
      "(1336002, 26)\n(890668, 26)\n(1336002,)\n(890668,)\n"
     ]
    }
   ],
   "source": [
    "from sklearn.model_selection import train_test_split\n",
    "X_train, X_test, y_train, y_test = train_test_split(X, Y, test_size=0.4, random_state=101)\n",
    "print(X_train.shape)\n",
    "print(X_test.shape)\n",
    "print(y_train.shape)\n",
    "print(y_test.shape)"
   ]
  },
  {
   "cell_type": "code",
   "execution_count": 11,
   "metadata": {},
   "outputs": [
    {
     "output_type": "execute_result",
     "data": {
      "text/plain": [
       "LinearRegression()"
      ]
     },
     "metadata": {},
     "execution_count": 11
    }
   ],
   "source": [
    "from sklearn.linear_model import LinearRegression\n",
    "model = LinearRegression()\n",
    "model.fit(X_train,y_train)"
   ]
  },
  {
   "cell_type": "code",
   "execution_count": 12,
   "metadata": {},
   "outputs": [
    {
     "output_type": "execute_result",
     "data": {
      "text/plain": [
       "LinearRegression()"
      ]
     },
     "metadata": {},
     "execution_count": 12
    }
   ],
   "source": [
    "LinearRegression(copy_X=True, fit_intercept=True, n_jobs=None, normalize=False)"
   ]
  },
  {
   "cell_type": "code",
   "execution_count": 13,
   "metadata": {},
   "outputs": [
    {
     "output_type": "stream",
     "name": "stdout",
     "text": [
      "588.1697232564652\n"
     ]
    }
   ],
   "source": [
    "print(model.intercept_)"
   ]
  },
  {
   "cell_type": "code",
   "execution_count": 14,
   "metadata": {},
   "outputs": [
    {
     "output_type": "execute_result",
     "data": {
      "text/plain": [
       "                                                    Coefficient\n",
       "NU_ANO_CENSO                                          -0.266956\n",
       "CO_ENTIDADE                                           -0.000001\n",
       "DEPENDENCIA_Federal                                   -5.958978\n",
       "DEPENDENCIA_Municipal                                 -2.747950\n",
       "DEPENDENCIA_Privada                                  -15.324717\n",
       "ETAPA_ENSINO_1° ANO - ENSINO FUNDAMENTAL              -7.047452\n",
       "ETAPA_ENSINO_2° ANO - ENSINO FUNDAMENTAL              -6.969956\n",
       "ETAPA_ENSINO_3° ANO - ENSINO FUNDAMENTAL              -6.672594\n",
       "ETAPA_ENSINO_4° ANO - ENSINO FUNDAMENTAL              -6.553676\n",
       "ETAPA_ENSINO_5° ANO - ENSINO FUNDAMENTAL              -6.000934\n",
       "ETAPA_ENSINO_6° ANO - ENSINO FUNDAMENTAL              -5.653089\n",
       "ETAPA_ENSINO_7° ANO - ENSINO FUNDAMENTAL              -5.796360\n",
       "ETAPA_ENSINO_8° ANO - ENSINO FUNDAMENTAL              -5.857104\n",
       "ETAPA_ENSINO_9° ANO - ENSINO FUNDAMENTAL              -5.367474\n",
       "ETAPA_ENSINO_CRECHE                                    2.760483\n",
       "ETAPA_ENSINO_EDUCAÇÃO PROFISSIONAL - ENSINO MÉDIO     10.073217\n",
       "ETAPA_ENSINO_PROPEDÊUTICO - ENSINO MÉDIO              24.521154\n",
       "ETAPA_ENSINO_PRÉ-ESCOLA                                5.291299\n",
       "NACIONALIDADE_Brasileira -nascido no exterior o...   -14.436169\n",
       "NACIONALIDADE_Estrangeira                            -16.797035\n",
       "SEXO_M                                                 0.398825\n",
       "COR_RACA_Branca                                       18.537300\n",
       "COR_RACA_Indígena                                     -6.445325\n",
       "COR_RACA_Não declarada                                17.671821\n",
       "COR_RACA_Parda                                        10.155939\n",
       "COR_RACA_Preta                                        -1.714100"
      ],
      "text/html": "<div>\n<style scoped>\n    .dataframe tbody tr th:only-of-type {\n        vertical-align: middle;\n    }\n\n    .dataframe tbody tr th {\n        vertical-align: top;\n    }\n\n    .dataframe thead th {\n        text-align: right;\n    }\n</style>\n<table border=\"1\" class=\"dataframe\">\n  <thead>\n    <tr style=\"text-align: right;\">\n      <th></th>\n      <th>Coefficient</th>\n    </tr>\n  </thead>\n  <tbody>\n    <tr>\n      <th>NU_ANO_CENSO</th>\n      <td>-0.266956</td>\n    </tr>\n    <tr>\n      <th>CO_ENTIDADE</th>\n      <td>-0.000001</td>\n    </tr>\n    <tr>\n      <th>DEPENDENCIA_Federal</th>\n      <td>-5.958978</td>\n    </tr>\n    <tr>\n      <th>DEPENDENCIA_Municipal</th>\n      <td>-2.747950</td>\n    </tr>\n    <tr>\n      <th>DEPENDENCIA_Privada</th>\n      <td>-15.324717</td>\n    </tr>\n    <tr>\n      <th>ETAPA_ENSINO_1° ANO - ENSINO FUNDAMENTAL</th>\n      <td>-7.047452</td>\n    </tr>\n    <tr>\n      <th>ETAPA_ENSINO_2° ANO - ENSINO FUNDAMENTAL</th>\n      <td>-6.969956</td>\n    </tr>\n    <tr>\n      <th>ETAPA_ENSINO_3° ANO - ENSINO FUNDAMENTAL</th>\n      <td>-6.672594</td>\n    </tr>\n    <tr>\n      <th>ETAPA_ENSINO_4° ANO - ENSINO FUNDAMENTAL</th>\n      <td>-6.553676</td>\n    </tr>\n    <tr>\n      <th>ETAPA_ENSINO_5° ANO - ENSINO FUNDAMENTAL</th>\n      <td>-6.000934</td>\n    </tr>\n    <tr>\n      <th>ETAPA_ENSINO_6° ANO - ENSINO FUNDAMENTAL</th>\n      <td>-5.653089</td>\n    </tr>\n    <tr>\n      <th>ETAPA_ENSINO_7° ANO - ENSINO FUNDAMENTAL</th>\n      <td>-5.796360</td>\n    </tr>\n    <tr>\n      <th>ETAPA_ENSINO_8° ANO - ENSINO FUNDAMENTAL</th>\n      <td>-5.857104</td>\n    </tr>\n    <tr>\n      <th>ETAPA_ENSINO_9° ANO - ENSINO FUNDAMENTAL</th>\n      <td>-5.367474</td>\n    </tr>\n    <tr>\n      <th>ETAPA_ENSINO_CRECHE</th>\n      <td>2.760483</td>\n    </tr>\n    <tr>\n      <th>ETAPA_ENSINO_EDUCAÇÃO PROFISSIONAL - ENSINO MÉDIO</th>\n      <td>10.073217</td>\n    </tr>\n    <tr>\n      <th>ETAPA_ENSINO_PROPEDÊUTICO - ENSINO MÉDIO</th>\n      <td>24.521154</td>\n    </tr>\n    <tr>\n      <th>ETAPA_ENSINO_PRÉ-ESCOLA</th>\n      <td>5.291299</td>\n    </tr>\n    <tr>\n      <th>NACIONALIDADE_Brasileira -nascido no exterior ou naturalizado</th>\n      <td>-14.436169</td>\n    </tr>\n    <tr>\n      <th>NACIONALIDADE_Estrangeira</th>\n      <td>-16.797035</td>\n    </tr>\n    <tr>\n      <th>SEXO_M</th>\n      <td>0.398825</td>\n    </tr>\n    <tr>\n      <th>COR_RACA_Branca</th>\n      <td>18.537300</td>\n    </tr>\n    <tr>\n      <th>COR_RACA_Indígena</th>\n      <td>-6.445325</td>\n    </tr>\n    <tr>\n      <th>COR_RACA_Não declarada</th>\n      <td>17.671821</td>\n    </tr>\n    <tr>\n      <th>COR_RACA_Parda</th>\n      <td>10.155939</td>\n    </tr>\n    <tr>\n      <th>COR_RACA_Preta</th>\n      <td>-1.714100</td>\n    </tr>\n  </tbody>\n</table>\n</div>"
     },
     "metadata": {},
     "execution_count": 14
    }
   ],
   "source": [
    "coeff_parameter = pd.DataFrame(model.coef_,X.columns,columns=['Coefficient'])\n",
    "coeff_parameter"
   ]
  },
  {
   "cell_type": "code",
   "execution_count": 15,
   "metadata": {},
   "outputs": [
    {
     "output_type": "execute_result",
     "data": {
      "text/plain": [
       "array([-24.06909655,  20.07234354,   9.40637485, ...,  -0.86406174,\n",
       "         8.03800594,  19.85774805])"
      ]
     },
     "metadata": {},
     "execution_count": 15
    }
   ],
   "source": [
    "predictions = model.predict(X_test)\n",
    "predictions"
   ]
  },
  {
   "cell_type": "code",
   "execution_count": 16,
   "metadata": {},
   "outputs": [
    {
     "output_type": "stream",
     "name": "stdout",
     "text": [
      "                            OLS Regression Results                            \n==============================================================================\nDep. Variable:                  total   R-squared:                       0.241\nModel:                            OLS   Adj. R-squared:                  0.241\nMethod:                 Least Squares   F-statistic:                 1.633e+04\nDate:                Fri, 05 Feb 2021   Prob (F-statistic):               0.00\nTime:                        18:04:27   Log-Likelihood:            -6.0097e+06\nNo. Observations:             1336002   AIC:                         1.202e+07\nDf Residuals:                 1335975   BIC:                         1.202e+07\nDf Model:                          26                                         \nCovariance Type:            nonrobust                                         \n=================================================================================================================================\n                                                                    coef    std err          t      P>|t|      [0.025      0.975]\n---------------------------------------------------------------------------------------------------------------------------------\nconst                                                           588.1697     11.463     51.312      0.000     565.704     610.636\nNU_ANO_CENSO                                                     -0.2670      0.006    -48.384      0.000      -0.278      -0.256\nCO_ENTIDADE                                                   -1.094e-06   7.27e-08    -15.052      0.000   -1.24e-06   -9.52e-07\nDEPENDENCIA_Federal                                              -5.9590      0.929     -6.417      0.000      -7.779      -4.139\nDEPENDENCIA_Municipal                                            -2.7479      0.055    -50.331      0.000      -2.855      -2.641\nDEPENDENCIA_Privada                                             -15.3247      0.049   -313.278      0.000     -15.421     -15.229\nETAPA_ENSINO_1° ANO - ENSINO FUNDAMENTAL                         -7.0475      1.908     -3.693      0.000     -10.788      -3.307\nETAPA_ENSINO_2° ANO - ENSINO FUNDAMENTAL                         -6.9700      1.908     -3.652      0.000     -10.710      -3.230\nETAPA_ENSINO_3° ANO - ENSINO FUNDAMENTAL                         -6.6726      1.908     -3.497      0.000     -10.413      -2.932\nETAPA_ENSINO_4° ANO - ENSINO FUNDAMENTAL                         -6.5537      1.908     -3.434      0.001     -10.294      -2.813\nETAPA_ENSINO_5° ANO - ENSINO FUNDAMENTAL                         -6.0009      1.908     -3.145      0.002      -9.741      -2.261\nETAPA_ENSINO_6° ANO - ENSINO FUNDAMENTAL                         -5.6531      1.908     -2.962      0.003      -9.393      -1.913\nETAPA_ENSINO_7° ANO - ENSINO FUNDAMENTAL                         -5.7964      1.908     -3.037      0.002      -9.537      -2.056\nETAPA_ENSINO_8° ANO - ENSINO FUNDAMENTAL                         -5.8571      1.908     -3.069      0.002      -9.597      -2.117\nETAPA_ENSINO_9° ANO - ENSINO FUNDAMENTAL                         -5.3675      1.908     -2.813      0.005      -9.108      -1.627\nETAPA_ENSINO_CRECHE                                               2.7605      1.908      1.447      0.148      -0.979       6.500\nETAPA_ENSINO_EDUCAÇÃO PROFISSIONAL - ENSINO MÉDIO                10.0732      1.952      5.159      0.000       6.246      13.900\nETAPA_ENSINO_PROPEDÊUTICO - ENSINO MÉDIO                         24.5212      1.909     12.846      0.000      20.780      28.262\nETAPA_ENSINO_PRÉ-ESCOLA                                           5.2913      1.908      2.773      0.006       1.551       9.031\nNACIONALIDADE_Brasileira -nascido no exterior ou naturalizado   -14.4362      0.226    -63.907      0.000     -14.879     -13.993\nNACIONALIDADE_Estrangeira                                       -16.7970      0.093   -180.292      0.000     -16.980     -16.614\nSEXO_M                                                            0.3988      0.038     10.599      0.000       0.325       0.473\nCOR_RACA_Branca                                                  18.5373      0.089    207.834      0.000      18.362      18.712\nCOR_RACA_Indígena                                                -6.4453      0.156    -41.348      0.000      -6.751      -6.140\nCOR_RACA_Não declarada                                           17.6718      0.090    196.551      0.000      17.496      17.848\nCOR_RACA_Parda                                                   10.1559      0.092    110.336      0.000       9.976      10.336\nCOR_RACA_Preta                                                   -1.7141      0.098    -17.552      0.000      -1.906      -1.523\n==============================================================================\nOmnibus:                  1851832.035   Durbin-Watson:                   1.997\nProb(Omnibus):                  0.000   Jarque-Bera (JB):       1112360311.949\nSkew:                           7.828   Prob(JB):                         0.00\nKurtosis:                     143.490   Cond. No.                     2.16e+10\n==============================================================================\n\nNotes:\n[1] Standard Errors assume that the covariance matrix of the errors is correctly specified.\n[2] The condition number is large, 2.16e+10. This might indicate that there are\nstrong multicollinearity or other numerical problems.\n"
     ]
    }
   ],
   "source": [
    "import statsmodels.api as sm\n",
    "X_train_Sm= sm.add_constant(X_train)\n",
    "X_train_Sm= sm.add_constant(X_train)\n",
    "ls=sm.OLS(y_train,X_train_Sm).fit()\n",
    "print(ls.summary())"
   ]
  },
  {
   "cell_type": "code",
   "execution_count": null,
   "metadata": {},
   "outputs": [],
   "source": []
  }
 ]
}